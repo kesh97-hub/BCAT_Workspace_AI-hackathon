{
 "cells": [
  {
   "cell_type": "code",
   "execution_count": 1,
   "metadata": {},
   "outputs": [],
   "source": [
    "import os\n",
    "import textwrap\n",
    "from pathlib import Path\n",
    "from langchain.chains import RetrievalQA\n",
    "from langchain.prompts import PromptTemplate\n",
    "from langchain.retrievers import ContextualCompressionRetriever\n",
    "from langchain.retrievers.document_compressors import FlashrankRerank\n",
    "from langchain.text_splitter import RecursiveCharacterTextSplitter\n",
    "from langchain.vectorstores import Qdrant\n",
    "from langchain_community.document_loaders import UnstructuredMarkdownLoader\n",
    "from langchain_community.embeddings.fastembed import FastEmbedEmbeddings\n",
    "from langchain_core.prompts import ChatPromptTemplate\n",
    "from langchain_groq import ChatGroq\n",
    "from llama_parse import LlamaParse\n",
    "from dotenv import load_dotenv"
   ]
  },
  {
   "cell_type": "code",
   "execution_count": 288,
   "metadata": {},
   "outputs": [],
   "source": [
    "from langchain.document_loaders import TextLoader, PyPDFLoader"
   ]
  },
  {
   "cell_type": "code",
   "execution_count": 332,
   "metadata": {},
   "outputs": [],
   "source": [
    "text_loader = TextLoader(\"./message.pdf\")\n",
    "parsed_document = text_loader.load()"
   ]
  },
  {
   "cell_type": "code",
   "execution_count": 333,
   "metadata": {},
   "outputs": [
    {
     "data": {
      "text/plain": [
       "'The Youth Team is organizing a biweekly meeting next Thursday at Meeting Room 105. \\nThis meeting is intended for all employees of the Youth Team to participate and discuss ongoing projects, share updates, and collaborate on future initiatives. \\nThe meeting will serve as a platform for team members to share their progress, exchange ideas, and align on key objectives for the upcoming weeks. \\nParticipants are encouraged to prepare any topics or concerns they would like to address during the meeting.'"
      ]
     },
     "execution_count": 333,
     "metadata": {},
     "output_type": "execute_result"
    }
   ],
   "source": [
    "parsed_document[0].page_content"
   ]
  },
  {
   "cell_type": "code",
   "execution_count": 2,
   "metadata": {},
   "outputs": [],
   "source": [
    "load_dotenv()\n",
    "os.environ['GROQ_API_KEY']=os.getenv(\"GROQ_API_KEY\")\n",
    "os.environ['LLAMA_API_KEY']=os.getenv(\"LLAMA_API_KEY\")"
   ]
  },
  {
   "cell_type": "code",
   "execution_count": 178,
   "metadata": {},
   "outputs": [],
   "source": [
    "# instruction='''The provided document is a research paper explaining about how Sharpness Aware Minimization helps in multi-task learning,\n",
    "#                 It includes several explaination and results to discuss about the benefits of such approach.\n",
    "#                 It also includes algorithm to the proposed approach.\n",
    "#                 Try to precise while answering the questions'''\n",
    "\n",
    "parser=LlamaParse(\n",
    "    api_key=os.environ['LLAMA_API_KEY'],\n",
    "    result_type=\"markdown\",\n",
    "    # parsing_instruction=instruction,\n",
    "    max_timeout=5000,\n",
    ")"
   ]
  },
  {
   "cell_type": "code",
   "execution_count": 179,
   "metadata": {},
   "outputs": [
    {
     "name": "stdout",
     "output_type": "stream",
     "text": [
      "Started parsing the file under job_id b3db2456-dc52-491d-a724-85a867e345f7\n"
     ]
    }
   ],
   "source": [
    "# parsed_document=await parser.aload_data(\"./message.pdf\")"
   ]
  },
  {
   "cell_type": "code",
   "execution_count": 245,
   "metadata": {},
   "outputs": [
    {
     "data": {
      "text/plain": [
       "[Document(id_='e4d12064-99b1-471d-97f7-27348e1332de', embedding=None, metadata={'file_path': './message.pdf'}, excluded_embed_metadata_keys=[], excluded_llm_metadata_keys=[], relationships={}, text='# Announcement\\n\\nHi team,\\n\\nThis is an announcement that we will be having our biweekly meeting for Youth Team next Thursday. I kindly encourage all the employees in the team to participate in it.Current date is 2024-09-28 20:10:51.394913', start_char_idx=None, end_char_idx=None, text_template='{metadata_str}\\n\\n{content}', metadata_template='{key}: {value}', metadata_seperator='\\n')]"
      ]
     },
     "execution_count": 245,
     "metadata": {},
     "output_type": "execute_result"
    }
   ],
   "source": [
    "# parsed_document"
   ]
  },
  {
   "cell_type": "code",
   "execution_count": 180,
   "metadata": {},
   "outputs": [
    {
     "data": {
      "text/plain": [
       "'# Announcement\\n\\nHi team,\\n\\nThis is an announcement that we will be having our biweekly meeting for Youth Team next Thursday. I kindly encourage all the employees in the team to participate in it.'"
      ]
     },
     "execution_count": 180,
     "metadata": {},
     "output_type": "execute_result"
    }
   ],
   "source": [
    "# parsed_document[0].text"
   ]
  },
  {
   "cell_type": "code",
   "execution_count": 334,
   "metadata": {},
   "outputs": [
    {
     "name": "stdout",
     "output_type": "stream",
     "text": [
      "page_content='The Youth Team is organizing a biweekly meeting next Thursday at Meeting Room 105. \\nThis meeting is intended for all employees of the Youth Team to participate and discuss ongoing projects, share updates, and collaborate on future initiatives. \\nThe meeting will serve as a platform for team members to share their progress, exchange ideas, and align on key objectives for the upcoming weeks. \\nParticipants are encouraged to prepare any topics or concerns they would like to address during the meeting.Current date is 2024-09-29 00:03:17.048518' metadata={'source': './message.pdf'}\n"
     ]
    }
   ],
   "source": [
    "from datetime import datetime\n",
    "parsed_doc=parsed_document[0]\n",
    "parsed_doc.page_content+= f\"Current date is {datetime.now()}\"\n",
    "print(parsed_doc)"
   ]
  },
  {
   "cell_type": "code",
   "execution_count": 335,
   "metadata": {},
   "outputs": [],
   "source": [
    "doc_path=Path('data/parsed_doc.md')\n",
    "doc_path.parent.mkdir(parents=True, exist_ok=True)"
   ]
  },
  {
   "cell_type": "code",
   "execution_count": 336,
   "metadata": {},
   "outputs": [],
   "source": [
    "with doc_path.open(\"w\") as f:\n",
    "    f.write(parsed_doc.page_content)"
   ]
  },
  {
   "cell_type": "code",
   "execution_count": 137,
   "metadata": {},
   "outputs": [
    {
     "name": "stderr",
     "output_type": "stream",
     "text": [
      "[nltk_data] Downloading package punkt_tab to\n",
      "[nltk_data]     /home/csgrad/gsubrama/nltk_data...\n",
      "[nltk_data]   Package punkt_tab is already up-to-date!\n"
     ]
    },
    {
     "data": {
      "text/plain": [
       "True"
      ]
     },
     "execution_count": 137,
     "metadata": {},
     "output_type": "execute_result"
    }
   ],
   "source": [
    "import nltk\n",
    "nltk.download('punkt_tab')"
   ]
  },
  {
   "cell_type": "code",
   "execution_count": 37,
   "metadata": {},
   "outputs": [
    {
     "name": "stderr",
     "output_type": "stream",
     "text": [
      "[nltk_data] Downloading package averaged_perceptron_tagger_eng to\n",
      "[nltk_data]     /home/csgrad/gsubrama/nltk_data...\n",
      "[nltk_data]   Unzipping taggers/averaged_perceptron_tagger_eng.zip.\n"
     ]
    },
    {
     "data": {
      "text/plain": [
       "True"
      ]
     },
     "execution_count": 37,
     "metadata": {},
     "output_type": "execute_result"
    }
   ],
   "source": [
    "nltk.download('averaged_perceptron_tagger_eng')"
   ]
  },
  {
   "cell_type": "code",
   "execution_count": 337,
   "metadata": {},
   "outputs": [],
   "source": [
    "loader=UnstructuredMarkdownLoader(doc_path)\n",
    "loaded_doc=loader.load()"
   ]
  },
  {
   "cell_type": "code",
   "execution_count": 338,
   "metadata": {},
   "outputs": [
    {
     "name": "stdout",
     "output_type": "stream",
     "text": [
      "page_content='The Youth Team is organizing a biweekly meeting next Thursday at Meeting Room 105. \\nThis meeting is intended for all employees of the Youth Team to participate and discuss ongoing projects, share updates, and collaborate on future initiatives. \\nThe meeting will serve as a platform for team members to share their progress, exchange ideas, and align on key objectives for the upcoming weeks. \\nParticipants are encouraged to prepare any topics or concerns they would like to address during the meeting.Current date is 2024-09-29 00:03:17.048518' metadata={'source': PosixPath('data/parsed_doc.md')}\n"
     ]
    }
   ],
   "source": [
    "text_splitter=RecursiveCharacterTextSplitter(chunk_size=2048,chunk_overlap=100)\n",
    "docs=text_splitter.split_documents(loaded_doc)\n",
    "print(docs[0])"
   ]
  },
  {
   "cell_type": "code",
   "execution_count": 302,
   "metadata": {},
   "outputs": [
    {
     "name": "stderr",
     "output_type": "stream",
     "text": [
      "Fetching 5 files: 100%|██████████| 5/5 [00:00<00:00, 13925.31it/s]\n"
     ]
    }
   ],
   "source": [
    "embeddings=FastEmbedEmbeddings(model_name=\"BAAI/bge-base-en-v1.5\")"
   ]
  },
  {
   "cell_type": "code",
   "execution_count": 339,
   "metadata": {},
   "outputs": [],
   "source": [
    "qdrant=Qdrant.from_documents(\n",
    "    docs,\n",
    "    embeddings,\n",
    "    path='./db',\n",
    "    collection_name=\"document_embeddings\"\n",
    ")"
   ]
  },
  {
   "cell_type": "code",
   "execution_count": 188,
   "metadata": {},
   "outputs": [],
   "source": [
    "# query=\"Get me the details of the event\"\n",
    "# similar_text=qdrant.similarity_search_with_score(query)\n"
   ]
  },
  {
   "cell_type": "code",
   "execution_count": 340,
   "metadata": {},
   "outputs": [
    {
     "data": {
      "text/plain": [
       "[(Document(page_content='The Youth Team is organizing a biweekly meeting next Thursday at Meeting Room 105. \\nThis meeting is intended for all employees of the Youth Team to participate and discuss ongoing projects, share updates, and collaborate on future initiatives. \\nThe meeting will serve as a platform for team members to share their progress, exchange ideas, and align on key objectives for the upcoming weeks. \\nParticipants are encouraged to prepare any topics or concerns they would like to address during the meeting.Current date is 2024-09-29 00:03:17.048518', metadata={'source': 'data/parsed_doc.md', '_id': '72719caa3e584389b27bce46793afb0c', '_collection_name': 'document_embeddings'}),\n",
       "  0.5328336720334097)]"
      ]
     },
     "execution_count": 340,
     "metadata": {},
     "output_type": "execute_result"
    }
   ],
   "source": [
    "qdrant.similarity_search_with_score(\"Give me the venue of event\")\n"
   ]
  },
  {
   "cell_type": "code",
   "execution_count": 341,
   "metadata": {},
   "outputs": [],
   "source": [
    "retriver=qdrant.as_retriever(search_kwargs={\"k\":5})\n"
   ]
  },
  {
   "cell_type": "code",
   "execution_count": 342,
   "metadata": {},
   "outputs": [
    {
     "data": {
      "text/plain": [
       "VectorStoreRetriever(tags=['Qdrant', 'FastEmbedEmbeddings'], vectorstore=<langchain_community.vectorstores.qdrant.Qdrant object at 0x7f5d1c1ebdc0>, search_kwargs={'k': 5})"
      ]
     },
     "execution_count": 342,
     "metadata": {},
     "output_type": "execute_result"
    }
   ],
   "source": [
    "retriver"
   ]
  },
  {
   "cell_type": "code",
   "execution_count": 343,
   "metadata": {},
   "outputs": [
    {
     "name": "stdout",
     "output_type": "stream",
     "text": [
      "page_content='The Youth Team is organizing a biweekly meeting next Thursday at Meeting Room 105. \\nThis meeting is intended for all employees of the Youth Team to participate and discuss ongoing projects, share updates, and collaborate on future initiatives. \\nThe meeting will serve as a platform for team members to share their progress, exchange ideas, and align on key objectives for the upcoming weeks. \\nParticipants are encouraged to prepare any topics or concerns they would like to address during the meeting.Current date is 2024-09-29 00:03:17.048518' metadata={'source': 'data/parsed_doc.md', '_id': '72719caa3e584389b27bce46793afb0c', '_collection_name': 'document_embeddings'}\n"
     ]
    }
   ],
   "source": [
    "retrived_docs=retriver.invoke(\"Get the event details\")\n",
    "for doc in retrived_docs:\n",
    "    print(doc)"
   ]
  },
  {
   "cell_type": "code",
   "execution_count": 262,
   "metadata": {},
   "outputs": [],
   "source": [
    "# compressor=FlashrankRerank(model=\"ms-macro-MiniLM-L-12-v2\")\n",
    "# compression_retriever=ContextualCompressionRetriever(\n",
    "#     base_compressor=compressor,base_retriever=retriver\n",
    "# )"
   ]
  },
  {
   "cell_type": "code",
   "execution_count": 263,
   "metadata": {},
   "outputs": [],
   "source": [
    "llama=ChatGroq(temperature=0,model_name=\"llama3-70b-8192\")"
   ]
  },
  {
   "cell_type": "code",
   "execution_count": 264,
   "metadata": {},
   "outputs": [],
   "source": [
    "from datetime import datetime"
   ]
  },
  {
   "cell_type": "code",
   "execution_count": 344,
   "metadata": {},
   "outputs": [],
   "source": [
    "date=datetime.now()\n",
    "prompt_template=''' Using the message extract me the event summary, team participating, date of the event,venue also give a title in json format,\n",
    "                    If Venue is not specified keep it Null, If specific date is not given calculate date from the present date. Present date is given as yy-mm-dd.\n",
    "                    Dont give anyother response\n",
    "                    context:{context}'''\n",
    "prompt=PromptTemplate(\n",
    "    template=prompt_template,input_variables=['context']\n",
    ")"
   ]
  },
  {
   "cell_type": "code",
   "execution_count": 345,
   "metadata": {},
   "outputs": [],
   "source": [
    "qa=RetrievalQA.from_chain_type(\n",
    "    llm=llama,\n",
    "    chain_type=\"stuff\",\n",
    "    retriever=retriver,\n",
    "    return_source_documents=True,\n",
    "    chain_type_kwargs={'prompt':prompt}\n",
    ")"
   ]
  },
  {
   "cell_type": "code",
   "execution_count": 346,
   "metadata": {},
   "outputs": [
    {
     "data": {
      "text/plain": [
       "'{\\n\"title\": \"Youth Team Biweekly Meeting\",\\n\"event_summary\": \"Biweekly meeting to discuss ongoing projects, share updates, and collaborate on future initiatives\",\\n\"team_participating\": \"Youth Team\",\\n\"date_of_event\": \"2024-10-04\",\\n\"venue\": \"Meeting Room 105\"\\n}'"
      ]
     },
     "execution_count": 346,
     "metadata": {},
     "output_type": "execute_result"
    }
   ],
   "source": [
    "import json\n",
    "qa.invoke(\"\")['result']"
   ]
  },
  {
   "cell_type": "code",
   "execution_count": 347,
   "metadata": {},
   "outputs": [
    {
     "name": "stdout",
     "output_type": "stream",
     "text": [
      "{'query': 'Giv', 'result': '{\\n\"title\": \"Youth Team Biweekly Meeting\",\\n\"event_summary\": \"Biweekly meeting to discuss ongoing projects, share updates, and collaborate on future initiatives\",\\n\"team_participating\": \"Youth Team\",\\n\"date_of_event\": \"2024-10-04\",\\n\"venue\": \"Meeting Room 105\"\\n}', 'source_documents': [Document(page_content='The Youth Team is organizing a biweekly meeting next Thursday at Meeting Room 105. \\nThis meeting is intended for all employees of the Youth Team to participate and discuss ongoing projects, share updates, and collaborate on future initiatives. \\nThe meeting will serve as a platform for team members to share their progress, exchange ideas, and align on key objectives for the upcoming weeks. \\nParticipants are encouraged to prepare any topics or concerns they would like to address during the meeting.Current date is 2024-09-29 00:03:17.048518', metadata={'source': 'data/parsed_doc.md', '_id': '72719caa3e584389b27bce46793afb0c', '_collection_name': 'document_embeddings'})]}\n"
     ]
    }
   ],
   "source": [
    "response=qa.invoke(\"Giv\")\n",
    "print(response)"
   ]
  },
  {
   "cell_type": "code",
   "execution_count": 348,
   "metadata": {},
   "outputs": [],
   "source": [
    "def print_response(response):\n",
    "    res=response['result']\n",
    "    for text in res.split('\\n'):\n",
    "        if not text:\n",
    "            print()\n",
    "        print(\"\\n\".join(textwrap.wrap(text,100,break_long_words=False)))"
   ]
  },
  {
   "cell_type": "code",
   "execution_count": 349,
   "metadata": {},
   "outputs": [],
   "source": [
    "def answer_question(query):\n",
    "    response=qa.invoke(query)\n",
    "    return response['result']"
   ]
  },
  {
   "cell_type": "code",
   "execution_count": 350,
   "metadata": {},
   "outputs": [
    {
     "name": "stdout",
     "output_type": "stream",
     "text": [
      "{\n",
      "\"title\": \"Youth Team Biweekly Meeting\",\n",
      "\"event_summary\": \"Biweekly meeting to discuss ongoing projects, share updates, and collaborate on future initiatives\",\n",
      "\"team_participating\": \"Youth Team\",\n",
      "\"date_of_event\": \"2024-10-04\",\n",
      "\"venue\": \"Meeting Room 105\"\n",
      "}\n"
     ]
    }
   ],
   "source": [
    "import re\n",
    "ans=answer_question(\"\")\n",
    "match = re.search(r'({.*?})', ans, re.DOTALL)\n",
    "if match:\n",
    "    json_part = match.group(1)\n",
    "    print(json_part)"
   ]
  },
  {
   "cell_type": "code",
   "execution_count": null,
   "metadata": {},
   "outputs": [],
   "source": []
  }
 ],
 "metadata": {
  "kernelspec": {
   "display_name": "llama",
   "language": "python",
   "name": "python3"
  },
  "language_info": {
   "codemirror_mode": {
    "name": "ipython",
    "version": 3
   },
   "file_extension": ".py",
   "mimetype": "text/x-python",
   "name": "python",
   "nbconvert_exporter": "python",
   "pygments_lexer": "ipython3",
   "version": "3.10.12"
  }
 },
 "nbformat": 4,
 "nbformat_minor": 2
}
